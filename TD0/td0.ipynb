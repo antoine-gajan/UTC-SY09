{
 "cells": [
  {
   "attachments": {},
   "cell_type": "markdown",
   "metadata": {},
   "source": [
    "# TD 0 : Introduction à NumPy et Pandas"
   ]
  },
  {
   "attachments": {},
   "cell_type": "markdown",
   "metadata": {},
   "source": [
    "## Installation des packages"
   ]
  },
  {
   "cell_type": "code",
   "execution_count": null,
   "metadata": {},
   "outputs": [],
   "source": [
    "! pip install numpy\n",
    "! pip install seaborn\n",
    "! pip install matplotlib\n",
    "! pip install pandas"
   ]
  },
  {
   "cell_type": "code",
   "execution_count": 2,
   "metadata": {},
   "outputs": [],
   "source": [
    "import numpy as np \n",
    "import seaborn as sb \n",
    "import pandas as pd \n",
    "import matplotlib.pyplot as plt"
   ]
  },
  {
   "attachments": {},
   "cell_type": "markdown",
   "metadata": {},
   "source": [
    "## 1. Introduction à Numpy"
   ]
  },
  {
   "attachments": {},
   "cell_type": "markdown",
   "metadata": {},
   "source": [
    "### Création de tableaux"
   ]
  },
  {
   "cell_type": "code",
   "execution_count": 3,
   "metadata": {},
   "outputs": [
    {
     "data": {
      "text/plain": [
       "(array([1.e+00, 1.e+01, 1.e+02, 1.e+03, 1.e+04, 1.e+05, 1.e+06, 1.e+07,\n",
       "        1.e+08, 1.e+09, 1.e+10]),\n",
       " array([  0,   2,   4,   6,   8,  10,  12,  14,  16,  18,  20,  22,  24,\n",
       "         26,  28,  30,  32,  34,  36,  38,  40,  42,  44,  46,  48,  50,\n",
       "         52,  54,  56,  58,  60,  62,  64,  66,  68,  70,  72,  74,  76,\n",
       "         78,  80,  82,  84,  86,  88,  90,  92,  94,  96,  98, 100]),\n",
       " array([  0,  -1,  -2,  -3,  -4,  -5,  -6,  -7,  -8,  -9, -10]))"
      ]
     },
     "execution_count": 3,
     "metadata": {},
     "output_type": "execute_result"
    }
   ],
   "source": [
    "t1 = np.geomspace(1, pow(10, 10), 11)\n",
    "t2 = np.arange(0, 101, 2)\n",
    "t3 = np.arange(0, -11, -1)\n",
    "t1, t2, t3"
   ]
  },
  {
   "attachments": {},
   "cell_type": "markdown",
   "metadata": {},
   "source": [
    "### Création d'un échantillon de longueur 1000 suivant une loi exponentielle de paramètre 0.3"
   ]
  },
  {
   "cell_type": "code",
   "execution_count": 4,
   "metadata": {},
   "outputs": [
    {
     "data": {
      "image/png": "[encoded data removed]",
      "text/plain": [
       "<Figure size 640x480 with 1 Axes>"
      ]
     },
     "metadata": {},
     "output_type": "display_data"
    }
   ],
   "source": [
    "rng = np.random.default_rng()\n",
    "expo = rng.exponential(scale = 1/0.3, size=1000)\n",
    "plt.hist(expo)\n",
    "plt.title(\"Histogramme d'une loi exponentielle de paramètre 0.3\")\n",
    "plt.show()"
   ]
  },
  {
   "attachments": {},
   "cell_type": "markdown",
   "metadata": {},
   "source": [
    "### Recalculer mean() et std() de manière mathématique"
   ]
  },
  {
   "cell_type": "code",
   "execution_count": 5,
   "metadata": {},
   "outputs": [
    {
     "data": {
      "text/plain": [
       "(2.0, 0.816496580927726)"
      ]
     },
     "execution_count": 5,
     "metadata": {},
     "output_type": "execute_result"
    }
   ],
   "source": [
    "from math import sqrt\n",
    "a = np.array([1, 2, 3])\n",
    "\n",
    "mean = np.sum(a) / a.size\n",
    "std = sqrt(np.sum((a - mean)**2) / a.size)\n",
    "mean, std\n"
   ]
  },
  {
   "cell_type": "code",
   "execution_count": 6,
   "metadata": {},
   "outputs": [
    {
     "data": {
      "text/plain": [
       "3"
      ]
     },
     "execution_count": 6,
     "metadata": {},
     "output_type": "execute_result"
    }
   ],
   "source": [
    "len(a)\n",
    "# Donne le nombre d'éléments contenus dans le tableau"
   ]
  },
  {
   "cell_type": "code",
   "execution_count": 7,
   "metadata": {},
   "outputs": [
    {
     "data": {
      "text/plain": [
       "(array([[1],\n",
       "        [2],\n",
       "        [3]]),\n",
       " array([-3, -2, -1]),\n",
       " array([[ 0, -2, -2],\n",
       "        [-2,  0, -2],\n",
       "        [-2, -2,  0]]))"
      ]
     },
     "execution_count": 7,
     "metadata": {},
     "output_type": "execute_result"
    }
   ],
   "source": [
    "A1 = np.arange(1, 4, 1).reshape((3, 1))\n",
    "A2 = np.array([-3, -2, -1])\n",
    "A3 = np.full((3, 3), -2)\n",
    "np.fill_diagonal(A3, 0)\n",
    "\n",
    "A1, A2, A3"
   ]
  },
  {
   "attachments": {},
   "cell_type": "markdown",
   "metadata": {},
   "source": [
    "### Utilisation de la fonction reshape"
   ]
  },
  {
   "cell_type": "code",
   "execution_count": 8,
   "metadata": {},
   "outputs": [
    {
     "data": {
      "text/plain": [
       "(array([[1, 2, 3, 4],\n",
       "        [5, 6, 7, 8]]),\n",
       " array([[1, 3, 5, 7],\n",
       "        [2, 4, 6, 8]]))"
      ]
     },
     "execution_count": 8,
     "metadata": {},
     "output_type": "execute_result"
    }
   ],
   "source": [
    "A1 = np.arange(1, 9).reshape((2, 4))\n",
    "A2 = np.arange(1, 9).reshape((4, 2)).T\n",
    "A1, A2"
   ]
  },
  {
   "attachments": {},
   "cell_type": "markdown",
   "metadata": {},
   "source": [
    "### Fonction qui transforme une matrice colonne en une matrice ligne"
   ]
  },
  {
   "cell_type": "code",
   "execution_count": 9,
   "metadata": {},
   "outputs": [
    {
     "data": {
      "text/plain": [
       "array([[1],\n",
       "       [2],\n",
       "       [3],\n",
       "       [4]])"
      ]
     },
     "execution_count": 9,
     "metadata": {},
     "output_type": "execute_result"
    }
   ],
   "source": [
    "def column_to_ligne(matrice : np.array):\n",
    "    return matrice[:, np.newaxis]\n",
    "\n",
    "column_to_ligne(np.arange(1, 5))"
   ]
  },
  {
   "attachments": {},
   "cell_type": "markdown",
   "metadata": {},
   "source": [
    "### Fonction qui renvoie une matrice transformée"
   ]
  },
  {
   "cell_type": "code",
   "execution_count": 10,
   "metadata": {},
   "outputs": [
    {
     "data": {
      "text/plain": [
       "array([[ 1,  2, -4, -5],\n",
       "       [ 3,  4, -6, -7],\n",
       "       [ 4,  5,  1,  2],\n",
       "       [ 6,  7,  3,  4]])"
      ]
     },
     "execution_count": 10,
     "metadata": {},
     "output_type": "execute_result"
    }
   ],
   "source": [
    "def question8(A1 : np.array, A2 : np.array):\n",
    "    if A1.ndim != 2 and A2.ndim != 2:\n",
    "        raise ValueError(\"Les paramètres ne sont pas des matrices\")\n",
    "    if A1.shape[0] != A1.shape[1] and A2.shape[0] != A2.shape[1]:\n",
    "        raise ValueError(\"Les paramètres ne sont pas des matrices carrées\")\n",
    "    first_big_rows = np.concatenate((A1, -A2), axis = 1)\n",
    "    second_big_tows = np.concatenate((A2, A1), axis = 1)\n",
    "    return np.concatenate((first_big_rows, second_big_tows), axis = 0)\n",
    "\n",
    "question8(np.array([[1, 2], [3, 4]]), np.array([[4,5], [6,7]]))"
   ]
  },
  {
   "cell_type": "code",
   "execution_count": 11,
   "metadata": {},
   "outputs": [
    {
     "data": {
      "text/plain": [
       "array([[ 1,  2,  5],\n",
       "       [ 3,  4,  6],\n",
       "       [ 5,  6, 10]])"
      ]
     },
     "execution_count": 11,
     "metadata": {},
     "output_type": "execute_result"
    }
   ],
   "source": [
    "def question9(A1 : np.array, v : np.array, nb : float):\n",
    "    if v.shape[1] != 1 and v.shape[0] != A1.shape[0]:\n",
    "        raise ValueError(\"v doit être un vecteur colonne de même nombre de ligne que A1\")\n",
    "    first_big_rows = np.concatenate((A1, v), axis = 1)\n",
    "    second_big_tows = np.concatenate((v.T, np.array([nb]).reshape((1, 1))), axis = 1)\n",
    "    return np.concatenate((first_big_rows, second_big_tows), axis = 0)\n",
    "\n",
    "question9(np.array([[1, 2], [3, 4]]), np.arange(5, 7).reshape(2, 1), 10)"
   ]
  },
  {
   "attachments": {},
   "cell_type": "markdown",
   "metadata": {},
   "source": [
    "### Fonction matrice circulante"
   ]
  },
  {
   "cell_type": "code",
   "execution_count": 12,
   "metadata": {},
   "outputs": [
    {
     "data": {
      "text/plain": [
       "array([[1, 2, 3, 4],\n",
       "       [4, 1, 2, 3],\n",
       "       [3, 4, 1, 2],\n",
       "       [2, 3, 4, 1]])"
      ]
     },
     "execution_count": 12,
     "metadata": {},
     "output_type": "execute_result"
    }
   ],
   "source": [
    "def matrice_circulante(premiere_ligne):\n",
    "    \"\"\"Fonction qui renvoie la matrice circulante associée à la première ligne\"\"\"\n",
    "    circulante = np.tile(premiere_ligne, (len(premiere_ligne), 1))\n",
    "    for i in range(premiere_ligne.size):\n",
    "        circulante[i, :] = np.roll(circulante[i, :], shift = i)\n",
    "    return circulante\n",
    "\n",
    "matrice_circulante(np.arange(1, 5))"
   ]
  },
  {
   "cell_type": "markdown",
   "metadata": {},
   "source": [
    "### Création d'une matrice"
   ]
  },
  {
   "cell_type": "code",
   "execution_count": 14,
   "metadata": {},
   "outputs": [
    {
     "data": {
      "text/plain": [
       "array([[1.        , 0.5       , 0.33333333, 0.25      , 0.2       ],\n",
       "       [0.5       , 0.25      , 0.16666667, 0.125     , 0.1       ],\n",
       "       [0.33333333, 0.16666667, 0.11111111, 0.08333333, 0.06666667],\n",
       "       [0.25      , 0.125     , 0.08333333, 0.0625    , 0.05      ]])"
      ]
     },
     "execution_count": 14,
     "metadata": {},
     "output_type": "execute_result"
    }
   ],
   "source": [
    "def matrix(n, p):\n",
    "    u = np.arange(1, n + 1).reshape(n, 1)\n",
    "    v = np.arange(1, p + 1).reshape(p, 1)\n",
    "    prod = np.matmul(u, v.T)\n",
    "    return 1 / prod\n",
    "\n",
    "matrix(4, 5)"
   ]
  },
  {
   "cell_type": "markdown",
   "metadata": {},
   "source": [
    "## 2. Découverte de Pandas"
   ]
  },
  {
   "cell_type": "code",
   "execution_count": 20,
   "metadata": {},
   "outputs": [
    {
     "data": {
      "text/plain": [
       "preusuel\n",
       "LUCAS      117001\n",
       "EMMA       105209\n",
       "ENZO        97980\n",
       "LÉA         96491\n",
       "HUGO        91960\n",
       "            ...  \n",
       "KELIAN       1984\n",
       "JAD          1983\n",
       "THELMA       1982\n",
       "MANELLE      1981\n",
       "KESSY        1972\n",
       "Name: nombre, Length: 1000, dtype: int64"
      ]
     },
     "execution_count": 20,
     "metadata": {},
     "output_type": "execute_result"
    }
   ],
   "source": [
    "s1 = pd.read_csv(\"data/s1.csv\", index_col=0).squeeze()\n",
    "s1"
   ]
  },
  {
   "cell_type": "code",
   "execution_count": 23,
   "metadata": {},
   "outputs": [
    {
     "data": {
      "text/plain": [
       "(preusuel\n",
       " LUCAS    117001\n",
       " EMMA     105209\n",
       " Name: nombre, dtype: int64,\n",
       " preusuel\n",
       " LUCAS      117001\n",
       " EMMA       105209\n",
       " ENZO        97980\n",
       " LÉA         96491\n",
       " HUGO        91960\n",
       "             ...  \n",
       " MAËLINE      1987\n",
       " KELIAN       1984\n",
       " JAD          1983\n",
       " MANELLE      1981\n",
       " KESSY        1972\n",
       " Name: nombre, Length: 902, dtype: int64)"
      ]
     },
     "execution_count": 23,
     "metadata": {},
     "output_type": "execute_result"
    }
   ],
   "source": [
    "# Liste des prénoms donnés plus de 100000 fois\n",
    "liste = s1[s1 > 100000]\n",
    "before_sacha = s1[s1.index < \"Sacha\"]\n",
    "liste, before_sacha"
   ]
  }
 ],
 "metadata": {
  "kernelspec": {
   "display_name": "Python 3",
   "language": "python",
   "name": "python3"
  },
  "language_info": {
   "codemirror_mode": {
    "name": "ipython",
    "version": 3
   },
   "file_extension": ".py",
   "mimetype": "text/x-python",
   "name": "python",
   "nbconvert_exporter": "python",
   "pygments_lexer": "ipython3",
   "version": "3.9.13"
  },
  "orig_nbformat": 4
 },
 "nbformat": 4,
 "nbformat_minor": 2
}
